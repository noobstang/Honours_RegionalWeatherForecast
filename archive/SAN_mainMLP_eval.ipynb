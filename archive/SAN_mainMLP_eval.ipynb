{
  "nbformat": 4,
  "nbformat_minor": 0,
  "metadata": {
    "colab": {
      "provenance": []
    },
    "kernelspec": {
      "name": "python3",
      "display_name": "Python 3"
    },
    "language_info": {
      "name": "python"
    }
  },
  "cells": [
    {
      "cell_type": "code",
      "execution_count": null,
      "metadata": {
        "id": "QXvXqmQl9bQ3"
      },
      "outputs": [],
      "source": [
        "import pandas as pd\n",
        "\n",
        "import numpy as np\n",
        "from sklearn.preprocessing import MinMaxScaler\n",
        "import torch\n",
        "import torch.nn as nn\n",
        "import torch.optim as optim\n",
        "from torch.utils.data import DataLoader, TensorDataset\n",
        "import matplotlib.pyplot as plt\n",
        "from sklearn.metrics import mean_absolute_error, mean_squared_error"
      ]
    },
    {
      "cell_type": "code",
      "source": [
        "def series_to_supervised(data, n_in=1, n_out=1, dropnan=True):\n",
        "    n_vars = 1 if type(data) is list else data.shape[1]\n",
        "    df = pd.DataFrame(data)\n",
        "    cols, names = list(), list()\n",
        "    # Input sequence (t-n, ... t-1)\n",
        "    for i in range(n_in, 0, -1):\n",
        "        cols.append(df.shift(i))\n",
        "        names += [('var%d(t-%d)' % (j+1, i)) for j in range(n_vars)]\n",
        "    # Forecast sequence (t, t+1, ... t+n_out)\n",
        "    for i in range(0, n_out):\n",
        "        cols.append(df.shift(-i))\n",
        "        if i == 0:\n",
        "            names += [('var%d(t)' % (j+1)) for j in range(n_vars)]\n",
        "        else:\n",
        "            names += [('var%d(t+%d)' % (j+1, i)) for j in range(n_vars)]\n",
        "    # Put it all together\n",
        "    agg = pd.concat(cols, axis=1)\n",
        "    agg.columns = names\n",
        "    # Drop rows with NaN values\n",
        "    if dropnan:\n",
        "        agg.dropna(inplace=True)\n",
        "    return agg"
      ],
      "metadata": {
        "id": "Eq_MFCBW-i1V"
      },
      "execution_count": null,
      "outputs": []
    },
    {
      "cell_type": "code",
      "source": [
        "# Define MLP Model with adjusted input dimension\n",
        "class MLP(nn.Module):\n",
        "    def __init__(self, input_dim, output_dim):\n",
        "        super(MLP, self).__init__()\n",
        "        self.network = nn.Sequential(\n",
        "            nn.Linear(input_dim, 128),\n",
        "            nn.ReLU(),\n",
        "            nn.Linear(128, 64),\n",
        "            nn.ReLU(),\n",
        "            nn.Linear(64, output_dim)\n",
        "        )\n",
        "\n",
        "    def forward(self, x):\n",
        "        return self.network(x)"
      ],
      "metadata": {
        "id": "AaTrINOi-2zd"
      },
      "execution_count": null,
      "outputs": []
    },
    {
      "cell_type": "code",
      "source": [
        "# Evaluate the model\n",
        "def get_predictions_and_targets(loader, model):\n",
        "    model.eval()  # Set the model to evaluation mode\n",
        "    predictions, targets = [], []\n",
        "    with torch.no_grad():\n",
        "        for inputs, labels in loader:\n",
        "            outputs = model(inputs)\n",
        "            predictions.append(outputs.numpy())\n",
        "            targets.append(labels.numpy())\n",
        "    predictions = np.vstack(predictions)\n",
        "    targets = np.vstack(targets)\n",
        "    return predictions, targets"
      ],
      "metadata": {
        "id": "xYfNupGr_D-I"
      },
      "execution_count": null,
      "outputs": []
    },
    {
      "cell_type": "code",
      "source": [
        "def evaluate_model(model, test_X, test_y, train_loader, test_loader, criterion):\n",
        "    model.eval()\n",
        "    with torch.no_grad():\n",
        "        predictions = model(test_X)\n",
        "        test_loss = criterion(predictions, test_y)\n",
        "    print(f'Test Loss: {test_loss.item()}')\n",
        "\n",
        "    train_predictions, train_targets = get_predictions_and_targets(train_loader, model)\n",
        "    test_predictions, test_targets = get_predictions_and_targets(test_loader, model)\n",
        "\n",
        "    train_mae = mean_absolute_error(train_targets, train_predictions)\n",
        "    train_mse = mean_squared_error(train_targets, train_predictions)\n",
        "    test_mae = mean_absolute_error(test_targets, test_predictions)\n",
        "    test_mse = mean_squared_error(test_targets, test_predictions)\n",
        "\n",
        "    print(f\"Training MAE: {train_mae}, Training MSE: {train_mse}\")\n",
        "    print(f\"Testing MAE: {test_mae}, Testing MSE: {test_mse}\")\n"
      ],
      "metadata": {
        "id": "J3EgzROw_ZD2"
      },
      "execution_count": null,
      "outputs": []
    },
    {
      "cell_type": "code",
      "source": [
        "if __name__ == \"__main__\":\n",
        "  # Load the dataset\n",
        "  url = 'https://raw.githubusercontent.com/noobstang/NNtraining/master/Weather49Sets/weatherstats_ottawa_daily.csv'\n",
        "  data = pd.read_csv(url)\n",
        "\n",
        "  data['date'] = pd.to_datetime(data['date'])\n",
        "\n",
        "  # Filter data for dates between May 1st and November 30th for each year\n",
        "  filtered_data = data[(data['date'].dt.month >= 5) & (data['date'].dt.month <= 11)]\n",
        "  data_filtered = data[(data['date'].dt.year >= 2010) & (data['date'].dt.year <= 2023)]\n",
        "\n",
        "  # Select the required columns and preprocess\n",
        "  columns_required = ['avg_hourly_temperature', 'precipitation', 'avg_hourly_pressure_station', 'solar_radiation']\n",
        "  data_filtered = data_filtered[columns_required].dropna()\n",
        "\n",
        "  # Scale the data\n",
        "  scaler = MinMaxScaler(feature_range=(0, 1))\n",
        "  data_scaled = scaler.fit_transform(data_filtered)\n",
        "\n",
        "  # Convert to supervised learning problem with a window size of 3DAYS\n",
        "  data_supervised = series_to_supervised(data_scaled, 3, 1)\n",
        "\n",
        "  # Split the dataset\n",
        "  n_obs = 3 * 4  # Update for 3DAYS window size\n",
        "  values = data_supervised.values\n",
        "  n_train_days = int(len(values) * 0.8)\n",
        "  train = values[:n_train_days, :]\n",
        "  test = values[n_train_days:, :]\n",
        "  train_X, train_y = train[:, :n_obs], train[:, -4:]\n",
        "  test_X, test_y = test[:, :n_obs], test[:, -4:]\n",
        "\n",
        "  # Convert to tensors\n",
        "  train_X = torch.tensor(train_X, dtype=torch.float32)\n",
        "  train_y = torch.tensor(train_y, dtype=torch.float32)\n",
        "  test_X = torch.tensor(test_X, dtype=torch.float32)\n",
        "  test_y = torch.tensor(test_y, dtype=torch.float32)\n",
        "\n",
        "  # DataLoader\n",
        "  train_dataset = TensorDataset(train_X, train_y)\n",
        "  train_loader = DataLoader(train_dataset, batch_size=64, shuffle=True)\n",
        "  test_dataset = TensorDataset(test_X, test_y)\n",
        "  test_loader = DataLoader(test_dataset, batch_size=64, shuffle=False)\n",
        "\n",
        "  # Initialize the model with the updated input dimension\n",
        "  model = MLP(12, 4)  # Update for 3DAYS window size\n",
        "  criterion = nn.MSELoss()\n",
        "  optimizer = optim.Adam(model.parameters(), lr=0.001)\n",
        "\n",
        "  # Training loop\n",
        "  epochs = 50\n",
        "  for epoch in range(epochs):\n",
        "      model.train()\n",
        "      for inputs, targets in train_loader:\n",
        "          optimizer.zero_grad()\n",
        "          output = model(inputs)\n",
        "          loss = criterion(output, targets)\n",
        "          loss.backward()\n",
        "          optimizer.step()\n",
        "      print(f'Epoch {epoch+1}/{epochs}, Loss: {loss.item()}')\n",
        "\n",
        "\n",
        "  evaluate_model(model, test_X, test_y, train_loader, test_loader, criterion)\n"
      ],
      "metadata": {
        "colab": {
          "base_uri": "https://localhost:8080/"
        },
        "id": "eVK3LvnX9fLY",
        "outputId": "a4b7de94-bbe0-4d2d-f69c-e6605231824b"
      },
      "execution_count": null,
      "outputs": [
        {
          "output_type": "stream",
          "name": "stderr",
          "text": [
            "<ipython-input-29-1f84de39ce0e>:4: DtypeWarning: Columns (46,49) have mixed types. Specify dtype option on import or set low_memory=False.\n",
            "  data = pd.read_csv(url)\n"
          ]
        },
        {
          "output_type": "stream",
          "name": "stdout",
          "text": [
            "Epoch 1/50, Loss: 0.020672952756285667\n",
            "Epoch 2/50, Loss: 0.012685954570770264\n",
            "Epoch 3/50, Loss: 0.016097551211714745\n",
            "Epoch 4/50, Loss: 0.015308748930692673\n",
            "Epoch 5/50, Loss: 0.011971816420555115\n",
            "Epoch 6/50, Loss: 0.013332940638065338\n",
            "Epoch 7/50, Loss: 0.013219349086284637\n",
            "Epoch 8/50, Loss: 0.011462919414043427\n",
            "Epoch 9/50, Loss: 0.012313046492636204\n",
            "Epoch 10/50, Loss: 0.011954618617892265\n",
            "Epoch 11/50, Loss: 0.011617901735007763\n",
            "Epoch 12/50, Loss: 0.01180655974894762\n",
            "Epoch 13/50, Loss: 0.012854933738708496\n",
            "Epoch 14/50, Loss: 0.011891594156622887\n",
            "Epoch 15/50, Loss: 0.011092856526374817\n",
            "Epoch 16/50, Loss: 0.010265654884278774\n",
            "Epoch 17/50, Loss: 0.012778714299201965\n",
            "Epoch 18/50, Loss: 0.011400456540286541\n",
            "Epoch 19/50, Loss: 0.011212590150535107\n",
            "Epoch 20/50, Loss: 0.013361241668462753\n",
            "Epoch 21/50, Loss: 0.011505961418151855\n",
            "Epoch 22/50, Loss: 0.013025465421378613\n",
            "Epoch 23/50, Loss: 0.012058861553668976\n",
            "Epoch 24/50, Loss: 0.008756631053984165\n",
            "Epoch 25/50, Loss: 0.007730954326689243\n",
            "Epoch 26/50, Loss: 0.012997525744140148\n",
            "Epoch 27/50, Loss: 0.012037725187838078\n",
            "Epoch 28/50, Loss: 0.010472162626683712\n",
            "Epoch 29/50, Loss: 0.011994322761893272\n",
            "Epoch 30/50, Loss: 0.0147270318120718\n",
            "Epoch 31/50, Loss: 0.00807657465338707\n",
            "Epoch 32/50, Loss: 0.011512171477079391\n",
            "Epoch 33/50, Loss: 0.007960363291203976\n",
            "Epoch 34/50, Loss: 0.01517507154494524\n",
            "Epoch 35/50, Loss: 0.013511071912944317\n",
            "Epoch 36/50, Loss: 0.009946589358150959\n",
            "Epoch 37/50, Loss: 0.009957799687981606\n",
            "Epoch 38/50, Loss: 0.00740371597930789\n",
            "Epoch 39/50, Loss: 0.014384308829903603\n",
            "Epoch 40/50, Loss: 0.00873440969735384\n",
            "Epoch 41/50, Loss: 0.008917899802327156\n",
            "Epoch 42/50, Loss: 0.013735991902649403\n",
            "Epoch 43/50, Loss: 0.011643854901194572\n",
            "Epoch 44/50, Loss: 0.013571363873779774\n",
            "Epoch 45/50, Loss: 0.010949905961751938\n",
            "Epoch 46/50, Loss: 0.015373674221336842\n",
            "Epoch 47/50, Loss: 0.009648440405726433\n",
            "Epoch 48/50, Loss: 0.010870357975363731\n",
            "Epoch 49/50, Loss: 0.010374348610639572\n",
            "Epoch 50/50, Loss: 0.011162040755152702\n",
            "Test Loss: 0.010485852137207985\n",
            "Training MAE: 0.0725695788860321, Training MSE: 0.011055846698582172\n",
            "Testing MAE: 0.07100804895162582, Testing MSE: 0.010485843755304813\n"
          ]
        }
      ]
    },
    {
      "cell_type": "markdown",
      "source": [
        "\n",
        "\n",
        "```\n",
        "Epoch 50/50, Loss: 0.009859252721071243\n",
        "Test Loss: 0.01037069596350193\n",
        "Training MAE: 0.07271228730678558, Training MSE: 0.011210594326257706\n",
        "Testing MAE: 0.07027967274188995, Testing MSE: 0.01037069596350193\n",
        "```\n",
        "\n"
      ],
      "metadata": {
        "id": "GBm1zc3Cltrh"
      }
    },
    {
      "cell_type": "code",
      "source": [
        "import pandas as pd\n",
        "\n",
        "# Assuming 'data_filtered' contains the original dataset with columns including 'date'\n",
        "# and has been used to generate 'test_X' and 'test_y'\n",
        "# Also assuming 'test_predictions' and 'test_targets' are the outputs from 'evaluate_model'\n",
        "\n",
        "# Convert predictions and actual values back to DataFrame with original scale\n",
        "test_predictions_scaled = scaler.inverse_transform(test_predictions)\n",
        "test_targets_scaled = scaler.inverse_transform(test_targets)\n",
        "\n",
        "# Filter the original dataset for the testing time range (year 2023)\n",
        "data_2023 = data_filtered[data_filtered['date'].dt.year == 2023]\n",
        "\n",
        "# Assuming 'data_2023' has the same order and length as 'test_predictions_scaled' and 'test_targets_scaled'\n",
        "# Create DataFrames for comparison\n",
        "columns_required = ['avg_hourly_temperature', 'precipitation', 'avg_hourly_pressure_station', 'solar_radiation']\n",
        "comparison_df = pd.DataFrame(data_2023[columns_required].reset_index(drop=True))\n",
        "\n",
        "# Update the DataFrame with predicted and actual values\n",
        "for i, col in enumerate(columns_required):\n",
        "    comparison_df[f'{col}_actual'] = test_targets_scaled[:, i]\n",
        "    comparison_df[f'{col}_predicted'] = test_predictions_scaled[:, i]\n",
        "\n",
        "# Display the DataFrame for one feature as an example (e.g., 'avg_hourly_temperature')\n",
        "comparison_df_temperature = comparison_df[['avg_hourly_temperature_actual', 'avg_hourly_temperature_predicted']]\n",
        "print(comparison_df_temperature.head())\n"
      ],
      "metadata": {
        "id": "e_mo-MgMG1qE",
        "outputId": "549c0dda-ddf4-4c44-9638-3f91def4a130",
        "colab": {
          "base_uri": "https://localhost:8080/",
          "height": 214
        }
      },
      "execution_count": null,
      "outputs": [
        {
          "output_type": "error",
          "ename": "NameError",
          "evalue": "name 'test_predictions' is not defined",
          "traceback": [
            "\u001b[0;31m---------------------------------------------------------------------------\u001b[0m",
            "\u001b[0;31mNameError\u001b[0m                                 Traceback (most recent call last)",
            "\u001b[0;32m<ipython-input-30-48b14adcd87d>\u001b[0m in \u001b[0;36m<cell line: 8>\u001b[0;34m()\u001b[0m\n\u001b[1;32m      6\u001b[0m \u001b[0;34m\u001b[0m\u001b[0m\n\u001b[1;32m      7\u001b[0m \u001b[0;31m# Convert predictions and actual values back to DataFrame with original scale\u001b[0m\u001b[0;34m\u001b[0m\u001b[0;34m\u001b[0m\u001b[0m\n\u001b[0;32m----> 8\u001b[0;31m \u001b[0mtest_predictions_scaled\u001b[0m \u001b[0;34m=\u001b[0m \u001b[0mscaler\u001b[0m\u001b[0;34m.\u001b[0m\u001b[0minverse_transform\u001b[0m\u001b[0;34m(\u001b[0m\u001b[0mtest_predictions\u001b[0m\u001b[0;34m)\u001b[0m\u001b[0;34m\u001b[0m\u001b[0;34m\u001b[0m\u001b[0m\n\u001b[0m\u001b[1;32m      9\u001b[0m \u001b[0mtest_targets_scaled\u001b[0m \u001b[0;34m=\u001b[0m \u001b[0mscaler\u001b[0m\u001b[0;34m.\u001b[0m\u001b[0minverse_transform\u001b[0m\u001b[0;34m(\u001b[0m\u001b[0mtest_targets\u001b[0m\u001b[0;34m)\u001b[0m\u001b[0;34m\u001b[0m\u001b[0;34m\u001b[0m\u001b[0m\n\u001b[1;32m     10\u001b[0m \u001b[0;34m\u001b[0m\u001b[0m\n",
            "\u001b[0;31mNameError\u001b[0m: name 'test_predictions' is not defined"
          ]
        }
      ]
    }
  ]
}