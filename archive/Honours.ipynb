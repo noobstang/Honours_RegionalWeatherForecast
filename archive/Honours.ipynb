{
  "cells": [
    {
      "cell_type": "markdown",
      "metadata": {
        "id": "Pbcc9QS1tnBN"
      },
      "source": [
        "**WEATHER MODEL**"
      ]
    },
    {
      "cell_type": "code",
      "source": [
        "# Import necessary libraries\n",
        "import pandas as pd\n",
        "from sklearn.preprocessing import StandardScaler\n",
        "from sklearn.impute import SimpleImputer\n",
        "from sklearn.neural_network import MLPRegressor\n",
        "from sklearn.metrics import mean_absolute_error, mean_squared_error\n",
        "import numpy as np"
      ],
      "metadata": {
        "id": "0Ngo3UtVbt1g"
      },
      "execution_count": null,
      "outputs": []
    },
    {
      "cell_type": "code",
      "source": [
        "# Load the dataset\n",
        "url = 'https://raw.githubusercontent.com/noobstang/NNtraining/master/Weather49Sets/weatherstats_ottawa_daily.csv'\n",
        "\n",
        "weather_data = pd.read_csv(url)\n",
        "weather_data.head(5)"
      ],
      "metadata": {
        "id": "z0O-VwsDbyGH",
        "colab": {
          "base_uri": "https://localhost:8080/",
          "height": 377
        },
        "outputId": "9279e506-3bff-4e87-ec37-0197eb234dfa"
      },
      "execution_count": null,
      "outputs": [
        {
          "output_type": "stream",
          "name": "stderr",
          "text": [
            "<ipython-input-13-4efe58fc668b>:4: DtypeWarning: Columns (46,49) have mixed types. Specify dtype option on import or set low_memory=False.\n",
            "  weather_data = pd.read_csv(url)\n"
          ]
        },
        {
          "output_type": "execute_result",
          "data": {
            "text/plain": [
              "         date  max_temperature  avg_hourly_temperature  avg_temperature  \\\n",
              "0  2024-01-31              2.0                   -3.24            -3.00   \n",
              "1  2024-01-30             -4.0                   -6.08            -5.85   \n",
              "2  2024-01-29             -0.2                   -2.75            -4.05   \n",
              "3  2024-01-28              1.6                    0.35             0.50   \n",
              "4  2024-01-27              1.1                    0.28             0.45   \n",
              "\n",
              "   min_temperature  max_humidex  min_windchill  max_relative_humidity  \\\n",
              "0             -8.0          NaN          -13.0                     89   \n",
              "1             -7.7          NaN          -15.0                     91   \n",
              "2             -7.9          NaN          -10.0                     89   \n",
              "3             -0.6          NaN           -4.0                    100   \n",
              "4             -0.2          NaN           -3.0                    100   \n",
              "\n",
              "   avg_hourly_relative_humidity  avg_relative_humidity  ...  \\\n",
              "0                          82.5                   80.5  ...   \n",
              "1                          73.4                   76.5  ...   \n",
              "2                          77.1                   77.5  ...   \n",
              "3                          91.2                   87.0  ...   \n",
              "4                          98.0                   95.0  ...   \n",
              "\n",
              "   avg_cloud_cover_4  min_cloud_cover_4  max_cloud_cover_8  \\\n",
              "0                NaN                NaN                8.0   \n",
              "1                NaN                NaN                8.0   \n",
              "2                NaN                NaN                8.0   \n",
              "3                NaN                NaN                8.0   \n",
              "4                NaN                NaN                8.0   \n",
              "\n",
              "   avg_hourly_cloud_cover_8  avg_cloud_cover_8  min_cloud_cover_8  \\\n",
              "0                       8.0                8.0                8.0   \n",
              "1                       7.7                7.5                7.0   \n",
              "2                       5.2                4.5                1.0   \n",
              "3                       6.6                5.0                2.0   \n",
              "4                       7.3                5.0                2.0   \n",
              "\n",
              "   max_cloud_cover_10  avg_hourly_cloud_cover_10  avg_cloud_cover_10  \\\n",
              "0                 NaN                        NaN                 NaN   \n",
              "1                 NaN                        NaN                 NaN   \n",
              "2                 NaN                        NaN                 NaN   \n",
              "3                 NaN                        NaN                 NaN   \n",
              "4                 NaN                        NaN                 NaN   \n",
              "\n",
              "   min_cloud_cover_10  \n",
              "0                 NaN  \n",
              "1                 NaN  \n",
              "2                 NaN  \n",
              "3                 NaN  \n",
              "4                 NaN  \n",
              "\n",
              "[5 rows x 72 columns]"
            ],
            "text/html": [
              "\n",
              "  <div id=\"df-4788a45d-a00f-4801-bc87-903f3b9ed4e7\" class=\"colab-df-container\">\n",
              "    <div>\n",
              "<style scoped>\n",
              "    .dataframe tbody tr th:only-of-type {\n",
              "        vertical-align: middle;\n",
              "    }\n",
              "\n",
              "    .dataframe tbody tr th {\n",
              "        vertical-align: top;\n",
              "    }\n",
              "\n",
              "    .dataframe thead th {\n",
              "        text-align: right;\n",
              "    }\n",
              "</style>\n",
              "<table border=\"1\" class=\"dataframe\">\n",
              "  <thead>\n",
              "    <tr style=\"text-align: right;\">\n",
              "      <th></th>\n",
              "      <th>date</th>\n",
              "      <th>max_temperature</th>\n",
              "      <th>avg_hourly_temperature</th>\n",
              "      <th>avg_temperature</th>\n",
              "      <th>min_temperature</th>\n",
              "      <th>max_humidex</th>\n",
              "      <th>min_windchill</th>\n",
              "      <th>max_relative_humidity</th>\n",
              "      <th>avg_hourly_relative_humidity</th>\n",
              "      <th>avg_relative_humidity</th>\n",
              "      <th>...</th>\n",
              "      <th>avg_cloud_cover_4</th>\n",
              "      <th>min_cloud_cover_4</th>\n",
              "      <th>max_cloud_cover_8</th>\n",
              "      <th>avg_hourly_cloud_cover_8</th>\n",
              "      <th>avg_cloud_cover_8</th>\n",
              "      <th>min_cloud_cover_8</th>\n",
              "      <th>max_cloud_cover_10</th>\n",
              "      <th>avg_hourly_cloud_cover_10</th>\n",
              "      <th>avg_cloud_cover_10</th>\n",
              "      <th>min_cloud_cover_10</th>\n",
              "    </tr>\n",
              "  </thead>\n",
              "  <tbody>\n",
              "    <tr>\n",
              "      <th>0</th>\n",
              "      <td>2024-01-31</td>\n",
              "      <td>2.0</td>\n",
              "      <td>-3.24</td>\n",
              "      <td>-3.00</td>\n",
              "      <td>-8.0</td>\n",
              "      <td>NaN</td>\n",
              "      <td>-13.0</td>\n",
              "      <td>89</td>\n",
              "      <td>82.5</td>\n",
              "      <td>80.5</td>\n",
              "      <td>...</td>\n",
              "      <td>NaN</td>\n",
              "      <td>NaN</td>\n",
              "      <td>8.0</td>\n",
              "      <td>8.0</td>\n",
              "      <td>8.0</td>\n",
              "      <td>8.0</td>\n",
              "      <td>NaN</td>\n",
              "      <td>NaN</td>\n",
              "      <td>NaN</td>\n",
              "      <td>NaN</td>\n",
              "    </tr>\n",
              "    <tr>\n",
              "      <th>1</th>\n",
              "      <td>2024-01-30</td>\n",
              "      <td>-4.0</td>\n",
              "      <td>-6.08</td>\n",
              "      <td>-5.85</td>\n",
              "      <td>-7.7</td>\n",
              "      <td>NaN</td>\n",
              "      <td>-15.0</td>\n",
              "      <td>91</td>\n",
              "      <td>73.4</td>\n",
              "      <td>76.5</td>\n",
              "      <td>...</td>\n",
              "      <td>NaN</td>\n",
              "      <td>NaN</td>\n",
              "      <td>8.0</td>\n",
              "      <td>7.7</td>\n",
              "      <td>7.5</td>\n",
              "      <td>7.0</td>\n",
              "      <td>NaN</td>\n",
              "      <td>NaN</td>\n",
              "      <td>NaN</td>\n",
              "      <td>NaN</td>\n",
              "    </tr>\n",
              "    <tr>\n",
              "      <th>2</th>\n",
              "      <td>2024-01-29</td>\n",
              "      <td>-0.2</td>\n",
              "      <td>-2.75</td>\n",
              "      <td>-4.05</td>\n",
              "      <td>-7.9</td>\n",
              "      <td>NaN</td>\n",
              "      <td>-10.0</td>\n",
              "      <td>89</td>\n",
              "      <td>77.1</td>\n",
              "      <td>77.5</td>\n",
              "      <td>...</td>\n",
              "      <td>NaN</td>\n",
              "      <td>NaN</td>\n",
              "      <td>8.0</td>\n",
              "      <td>5.2</td>\n",
              "      <td>4.5</td>\n",
              "      <td>1.0</td>\n",
              "      <td>NaN</td>\n",
              "      <td>NaN</td>\n",
              "      <td>NaN</td>\n",
              "      <td>NaN</td>\n",
              "    </tr>\n",
              "    <tr>\n",
              "      <th>3</th>\n",
              "      <td>2024-01-28</td>\n",
              "      <td>1.6</td>\n",
              "      <td>0.35</td>\n",
              "      <td>0.50</td>\n",
              "      <td>-0.6</td>\n",
              "      <td>NaN</td>\n",
              "      <td>-4.0</td>\n",
              "      <td>100</td>\n",
              "      <td>91.2</td>\n",
              "      <td>87.0</td>\n",
              "      <td>...</td>\n",
              "      <td>NaN</td>\n",
              "      <td>NaN</td>\n",
              "      <td>8.0</td>\n",
              "      <td>6.6</td>\n",
              "      <td>5.0</td>\n",
              "      <td>2.0</td>\n",
              "      <td>NaN</td>\n",
              "      <td>NaN</td>\n",
              "      <td>NaN</td>\n",
              "      <td>NaN</td>\n",
              "    </tr>\n",
              "    <tr>\n",
              "      <th>4</th>\n",
              "      <td>2024-01-27</td>\n",
              "      <td>1.1</td>\n",
              "      <td>0.28</td>\n",
              "      <td>0.45</td>\n",
              "      <td>-0.2</td>\n",
              "      <td>NaN</td>\n",
              "      <td>-3.0</td>\n",
              "      <td>100</td>\n",
              "      <td>98.0</td>\n",
              "      <td>95.0</td>\n",
              "      <td>...</td>\n",
              "      <td>NaN</td>\n",
              "      <td>NaN</td>\n",
              "      <td>8.0</td>\n",
              "      <td>7.3</td>\n",
              "      <td>5.0</td>\n",
              "      <td>2.0</td>\n",
              "      <td>NaN</td>\n",
              "      <td>NaN</td>\n",
              "      <td>NaN</td>\n",
              "      <td>NaN</td>\n",
              "    </tr>\n",
              "  </tbody>\n",
              "</table>\n",
              "<p>5 rows × 72 columns</p>\n",
              "</div>\n",
              "    <div class=\"colab-df-buttons\">\n",
              "\n",
              "  <div class=\"colab-df-container\">\n",
              "    <button class=\"colab-df-convert\" onclick=\"convertToInteractive('df-4788a45d-a00f-4801-bc87-903f3b9ed4e7')\"\n",
              "            title=\"Convert this dataframe to an interactive table.\"\n",
              "            style=\"display:none;\">\n",
              "\n",
              "  <svg xmlns=\"http://www.w3.org/2000/svg\" height=\"24px\" viewBox=\"0 -960 960 960\">\n",
              "    <path d=\"M120-120v-720h720v720H120Zm60-500h600v-160H180v160Zm220 220h160v-160H400v160Zm0 220h160v-160H400v160ZM180-400h160v-160H180v160Zm440 0h160v-160H620v160ZM180-180h160v-160H180v160Zm440 0h160v-160H620v160Z\"/>\n",
              "  </svg>\n",
              "    </button>\n",
              "\n",
              "  <style>\n",
              "    .colab-df-container {\n",
              "      display:flex;\n",
              "      gap: 12px;\n",
              "    }\n",
              "\n",
              "    .colab-df-convert {\n",
              "      background-color: #E8F0FE;\n",
              "      border: none;\n",
              "      border-radius: 50%;\n",
              "      cursor: pointer;\n",
              "      display: none;\n",
              "      fill: #1967D2;\n",
              "      height: 32px;\n",
              "      padding: 0 0 0 0;\n",
              "      width: 32px;\n",
              "    }\n",
              "\n",
              "    .colab-df-convert:hover {\n",
              "      background-color: #E2EBFA;\n",
              "      box-shadow: 0px 1px 2px rgba(60, 64, 67, 0.3), 0px 1px 3px 1px rgba(60, 64, 67, 0.15);\n",
              "      fill: #174EA6;\n",
              "    }\n",
              "\n",
              "    .colab-df-buttons div {\n",
              "      margin-bottom: 4px;\n",
              "    }\n",
              "\n",
              "    [theme=dark] .colab-df-convert {\n",
              "      background-color: #3B4455;\n",
              "      fill: #D2E3FC;\n",
              "    }\n",
              "\n",
              "    [theme=dark] .colab-df-convert:hover {\n",
              "      background-color: #434B5C;\n",
              "      box-shadow: 0px 1px 3px 1px rgba(0, 0, 0, 0.15);\n",
              "      filter: drop-shadow(0px 1px 2px rgba(0, 0, 0, 0.3));\n",
              "      fill: #FFFFFF;\n",
              "    }\n",
              "  </style>\n",
              "\n",
              "    <script>\n",
              "      const buttonEl =\n",
              "        document.querySelector('#df-4788a45d-a00f-4801-bc87-903f3b9ed4e7 button.colab-df-convert');\n",
              "      buttonEl.style.display =\n",
              "        google.colab.kernel.accessAllowed ? 'block' : 'none';\n",
              "\n",
              "      async function convertToInteractive(key) {\n",
              "        const element = document.querySelector('#df-4788a45d-a00f-4801-bc87-903f3b9ed4e7');\n",
              "        const dataTable =\n",
              "          await google.colab.kernel.invokeFunction('convertToInteractive',\n",
              "                                                    [key], {});\n",
              "        if (!dataTable) return;\n",
              "\n",
              "        const docLinkHtml = 'Like what you see? Visit the ' +\n",
              "          '<a target=\"_blank\" href=https://colab.research.google.com/notebooks/data_table.ipynb>data table notebook</a>'\n",
              "          + ' to learn more about interactive tables.';\n",
              "        element.innerHTML = '';\n",
              "        dataTable['output_type'] = 'display_data';\n",
              "        await google.colab.output.renderOutput(dataTable, element);\n",
              "        const docLink = document.createElement('div');\n",
              "        docLink.innerHTML = docLinkHtml;\n",
              "        element.appendChild(docLink);\n",
              "      }\n",
              "    </script>\n",
              "  </div>\n",
              "\n",
              "\n",
              "<div id=\"df-02f45eb8-7e70-4513-8406-ec289374adc0\">\n",
              "  <button class=\"colab-df-quickchart\" onclick=\"quickchart('df-02f45eb8-7e70-4513-8406-ec289374adc0')\"\n",
              "            title=\"Suggest charts\"\n",
              "            style=\"display:none;\">\n",
              "\n",
              "<svg xmlns=\"http://www.w3.org/2000/svg\" height=\"24px\"viewBox=\"0 0 24 24\"\n",
              "     width=\"24px\">\n",
              "    <g>\n",
              "        <path d=\"M19 3H5c-1.1 0-2 .9-2 2v14c0 1.1.9 2 2 2h14c1.1 0 2-.9 2-2V5c0-1.1-.9-2-2-2zM9 17H7v-7h2v7zm4 0h-2V7h2v10zm4 0h-2v-4h2v4z\"/>\n",
              "    </g>\n",
              "</svg>\n",
              "  </button>\n",
              "\n",
              "<style>\n",
              "  .colab-df-quickchart {\n",
              "      --bg-color: #E8F0FE;\n",
              "      --fill-color: #1967D2;\n",
              "      --hover-bg-color: #E2EBFA;\n",
              "      --hover-fill-color: #174EA6;\n",
              "      --disabled-fill-color: #AAA;\n",
              "      --disabled-bg-color: #DDD;\n",
              "  }\n",
              "\n",
              "  [theme=dark] .colab-df-quickchart {\n",
              "      --bg-color: #3B4455;\n",
              "      --fill-color: #D2E3FC;\n",
              "      --hover-bg-color: #434B5C;\n",
              "      --hover-fill-color: #FFFFFF;\n",
              "      --disabled-bg-color: #3B4455;\n",
              "      --disabled-fill-color: #666;\n",
              "  }\n",
              "\n",
              "  .colab-df-quickchart {\n",
              "    background-color: var(--bg-color);\n",
              "    border: none;\n",
              "    border-radius: 50%;\n",
              "    cursor: pointer;\n",
              "    display: none;\n",
              "    fill: var(--fill-color);\n",
              "    height: 32px;\n",
              "    padding: 0;\n",
              "    width: 32px;\n",
              "  }\n",
              "\n",
              "  .colab-df-quickchart:hover {\n",
              "    background-color: var(--hover-bg-color);\n",
              "    box-shadow: 0 1px 2px rgba(60, 64, 67, 0.3), 0 1px 3px 1px rgba(60, 64, 67, 0.15);\n",
              "    fill: var(--button-hover-fill-color);\n",
              "  }\n",
              "\n",
              "  .colab-df-quickchart-complete:disabled,\n",
              "  .colab-df-quickchart-complete:disabled:hover {\n",
              "    background-color: var(--disabled-bg-color);\n",
              "    fill: var(--disabled-fill-color);\n",
              "    box-shadow: none;\n",
              "  }\n",
              "\n",
              "  .colab-df-spinner {\n",
              "    border: 2px solid var(--fill-color);\n",
              "    border-color: transparent;\n",
              "    border-bottom-color: var(--fill-color);\n",
              "    animation:\n",
              "      spin 1s steps(1) infinite;\n",
              "  }\n",
              "\n",
              "  @keyframes spin {\n",
              "    0% {\n",
              "      border-color: transparent;\n",
              "      border-bottom-color: var(--fill-color);\n",
              "      border-left-color: var(--fill-color);\n",
              "    }\n",
              "    20% {\n",
              "      border-color: transparent;\n",
              "      border-left-color: var(--fill-color);\n",
              "      border-top-color: var(--fill-color);\n",
              "    }\n",
              "    30% {\n",
              "      border-color: transparent;\n",
              "      border-left-color: var(--fill-color);\n",
              "      border-top-color: var(--fill-color);\n",
              "      border-right-color: var(--fill-color);\n",
              "    }\n",
              "    40% {\n",
              "      border-color: transparent;\n",
              "      border-right-color: var(--fill-color);\n",
              "      border-top-color: var(--fill-color);\n",
              "    }\n",
              "    60% {\n",
              "      border-color: transparent;\n",
              "      border-right-color: var(--fill-color);\n",
              "    }\n",
              "    80% {\n",
              "      border-color: transparent;\n",
              "      border-right-color: var(--fill-color);\n",
              "      border-bottom-color: var(--fill-color);\n",
              "    }\n",
              "    90% {\n",
              "      border-color: transparent;\n",
              "      border-bottom-color: var(--fill-color);\n",
              "    }\n",
              "  }\n",
              "</style>\n",
              "\n",
              "  <script>\n",
              "    async function quickchart(key) {\n",
              "      const quickchartButtonEl =\n",
              "        document.querySelector('#' + key + ' button');\n",
              "      quickchartButtonEl.disabled = true;  // To prevent multiple clicks.\n",
              "      quickchartButtonEl.classList.add('colab-df-spinner');\n",
              "      try {\n",
              "        const charts = await google.colab.kernel.invokeFunction(\n",
              "            'suggestCharts', [key], {});\n",
              "      } catch (error) {\n",
              "        console.error('Error during call to suggestCharts:', error);\n",
              "      }\n",
              "      quickchartButtonEl.classList.remove('colab-df-spinner');\n",
              "      quickchartButtonEl.classList.add('colab-df-quickchart-complete');\n",
              "    }\n",
              "    (() => {\n",
              "      let quickchartButtonEl =\n",
              "        document.querySelector('#df-02f45eb8-7e70-4513-8406-ec289374adc0 button');\n",
              "      quickchartButtonEl.style.display =\n",
              "        google.colab.kernel.accessAllowed ? 'block' : 'none';\n",
              "    })();\n",
              "  </script>\n",
              "</div>\n",
              "\n",
              "    </div>\n",
              "  </div>\n"
            ],
            "application/vnd.google.colaboratory.intrinsic+json": {
              "type": "dataframe",
              "variable_name": "weather_data"
            }
          },
          "metadata": {},
          "execution_count": 13
        }
      ]
    },
    {
      "cell_type": "code",
      "source": [
        "# Convert 'date' column to datetime type for filtering\n",
        "weather_data['date'] = pd.to_datetime(weather_data['date'])\n",
        "\n",
        "# Filter data for dates between May 1st and November 30th for each year\n",
        "filtered_data = weather_data[(weather_data['date'].dt.month >= 5) & (weather_data['date'].dt.month <= 11)]\n",
        "\n",
        "# Further filter data for the years 2013 to 2023\n",
        "filtered_data = filtered_data[(filtered_data['date'].dt.year >= 2013) & (filtered_data['date'].dt.year <= 2023)]\n",
        "\n",
        "# Select the required columns\n",
        "selected_columns = ['date', 'avg_temperature', 'precipitation', 'solar_radiation', 'avg_pressure_sea']\n",
        "final_data = filtered_data[selected_columns]\n",
        "\n",
        "# Split the dataset into training (2013-2022) and testing (2023)\n",
        "train_data = final_data[final_data['date'].dt.year < 2023]\n",
        "test_data = final_data[final_data['date'].dt.year == 2023]\n"
      ],
      "metadata": {
        "id": "pZGnXYn8dWxB"
      },
      "execution_count": null,
      "outputs": []
    },
    {
      "cell_type": "markdown",
      "source": [
        "**model**"
      ],
      "metadata": {
        "id": "yHZTQoOidcQp"
      }
    },
    {
      "cell_type": "code",
      "source": [
        "# Standardizing the features\n",
        "scaler = StandardScaler()\n",
        "X_train = scaler.fit_transform(train_data.drop('date', axis=1))\n",
        "X_test = scaler.transform(test_data.drop('date', axis=1))\n",
        "\n",
        "# Imputing missing values\n",
        "imputer = SimpleImputer(strategy='mean')\n",
        "X_train_imputed = imputer.fit_transform(X_train)\n",
        "X_test_imputed = imputer.transform(X_test)\n",
        "\n",
        "# Target variable\n",
        "y_train = train_data['avg_temperature'].values\n",
        "y_test = test_data['avg_temperature'].values\n",
        "\n",
        "\n"
      ],
      "metadata": {
        "id": "QpB8Hzg5dSYL"
      },
      "execution_count": null,
      "outputs": []
    },
    {
      "cell_type": "code",
      "source": [
        "# Constructing and training the MLP model\n",
        "mlp_model = MLPRegressor(hidden_layer_sizes=(100, 50), activation='relu', solver='adam', max_iter=500, random_state=42)\n",
        "mlp_model.fit(X_train_imputed, y_train)\n",
        "\n",
        "# Predicting on the test data\n",
        "y_pred = mlp_model.predict(X_test_imputed)\n",
        "\n",
        "# Evaluating the model's performance\n",
        "mae = mean_absolute_error(y_test, y_pred)\n",
        "rmse = np.sqrt(mean_squared_error(y_test, y_pred))\n",
        "\n",
        "print(f'Mean Absolute Error: {mae}')\n",
        "print(f'Root Mean Square Error: {rmse}')"
      ],
      "metadata": {
        "colab": {
          "base_uri": "https://localhost:8080/"
        },
        "id": "wKdI-DRVgVGs",
        "outputId": "40270e80-0c71-4944-d6cb-6eb9a12497d7"
      },
      "execution_count": null,
      "outputs": [
        {
          "output_type": "stream",
          "name": "stdout",
          "text": [
            "Mean Absolute Error: 0.07102227543533181\n",
            "Root Mean Square Error: 0.09701273069296401\n"
          ]
        }
      ]
    },
    {
      "cell_type": "code",
      "source": [
        "# Assuming 'test_data' still includes the 'date' column and corresponds to your test dataset\n",
        "test_dates = test_data['date'].reset_index(drop=True)\n",
        "\n",
        "# Creating a DataFrame for comparison\n",
        "comparison_with_dates = pd.DataFrame({\n",
        "    'Date': test_dates,\n",
        "    'Actual Temperature': y_test,\n",
        "    'Predicted Temperature': y_pred\n",
        "})\n",
        "\n",
        "# Printing the first 5 rows of the comparison\n",
        "print(comparison_with_dates.head(5))\n"
      ],
      "metadata": {
        "colab": {
          "base_uri": "https://localhost:8080/"
        },
        "id": "u-i6d0KqkMYV",
        "outputId": "6d2e33a2-6d22-42c5-9b4d-db45c3a7d2ce"
      },
      "execution_count": null,
      "outputs": [
        {
          "output_type": "stream",
          "name": "stdout",
          "text": [
            "        Date  Actual Temperature  Predicted Temperature\n",
            "0 2023-11-30                2.15               2.081863\n",
            "1 2023-11-29               -4.14              -4.121984\n",
            "2 2023-11-28               -5.75              -5.796403\n",
            "3 2023-11-27                1.35               1.281115\n",
            "4 2023-11-26                0.29               0.221973\n"
          ]
        }
      ]
    },
    {
      "cell_type": "markdown",
      "source": [
        "\n",
        "\n",
        "```\n",
        "Date                Actual Temperature  Predicted Temperature\n",
        "0 2023-11-30                2.15               2.081863\n",
        "1 2023-11-29               -4.14              -4.121984\n",
        "2 2023-11-28               -5.75              -5.796403\n",
        "3 2023-11-27                1.35               1.281115\n",
        "4 2023-11-26                0.29               0.221973\n",
        "```\n",
        "\n"
      ],
      "metadata": {
        "id": "BX_3-xjGkbf3"
      }
    },
    {
      "cell_type": "markdown",
      "source": [
        "Mean Absolute Error: 0.07102227543533181\n",
        "\n",
        "Root Mean Square Error: 0.09701273069296401\n",
        "\n",
        "\n",
        "---\n",
        "\n",
        "\n",
        "The Mean Absolute Error (MAE) and Root Mean Square Error (RMSE) reported are very low, which suggests that the MLP model has performed quite well on the test dataset for predicting the average temperature. An MAE of approximately 0.071 degrees and an RMSE of approximately 0.097 degrees indicate that, on average, the model's predictions are very close to the actual observed values, with small prediction errors.\n",
        "\n",
        "These metrics are particularly useful for evaluating the performance of regression models:\n",
        "\n",
        "MAE provides a straightforward interpretation of the average magnitude of errors between the predicted and actual values, without considering their direction. A lower MAE value indicates better model performance, with 0 being a perfect score.\n",
        "RMSE gives a higher weight to larger errors due to the squaring of each term, which means it is particularly sensitive to outliers in the prediction errors. Similar to MAE, a lower RMSE value indicates better model performance, and a score of 0 would mean the model is perfect.\n",
        "Given the context of weather prediction, where even small changes can be significant, the low values of MAE and RMSE achieved are impressive. They suggest that the model could be very useful for practical applications, such as agricultural planning, event planning, and more, within the geographic area and time frame your data covers."
      ],
      "metadata": {
        "id": "X65MVtxmhaU8"
      }
    },
    {
      "cell_type": "markdown",
      "metadata": {
        "id": "RMUnCICdyBbs"
      },
      "source": [
        "**OTHER ATTRIBUTES**"
      ]
    },
    {
      "cell_type": "code",
      "source": [
        "# Assuming 'train_data' and 'test_data' have not been altered and still contain all necessary columns\n",
        "y_train_precipitation = train_data['precipitation'].values\n",
        "y_test_precipitation = test_data['precipitation'].values\n",
        "\n",
        "# Set 'solar_radiation' as the target variable\n",
        "y_train_solar = train_data['solar_radiation'].values\n",
        "y_test_solar = test_data['solar_radiation'].values\n",
        "\n",
        "# Set 'avg_pressure_sea' as the target variable\n",
        "y_train_pressure = train_data['avg_pressure_sea'].values\n",
        "y_test_pressure = test_data['avg_pressure_sea'].values\n"
      ],
      "metadata": {
        "id": "_R-mDKI2l7xO"
      },
      "execution_count": null,
      "outputs": []
    },
    {
      "cell_type": "markdown",
      "source": [
        "**Precipitation**"
      ],
      "metadata": {
        "id": "kayyx4TwnF4g"
      }
    },
    {
      "cell_type": "code",
      "source": [
        "mlp_precipitation = MLPRegressor(hidden_layer_sizes=(100, 50), activation='relu', solver='adam', max_iter=500, random_state=42)\n",
        "mlp_precipitation.fit(X_train_imputed, y_train_precipitation)\n",
        "\n",
        "# Predicting and evaluating for precipitation\n",
        "y_pred_precipitation = mlp_precipitation.predict(X_test_imputed)\n",
        "mae_precipitation = mean_absolute_error(y_test_precipitation, y_pred_precipitation)\n",
        "rmse_precipitation = np.sqrt(mean_squared_error(y_test_precipitation, y_pred_precipitation))\n",
        "\n",
        "print(f'Precipitation - Mean Absolute Error: {mae_precipitation}')\n",
        "print(f'Precipitation - Root Mean Square Error: {rmse_precipitation}')\n",
        "\n",
        "# Compare actual vs. predicted solar radiation for the first 5 data points\n",
        "comparison_p = pd.DataFrame({\n",
        "    'Date': test_dates,\n",
        "    'Actual Precipitation ': y_test_solar,\n",
        "    'Predicted Precipitation': y_pred_precipitation\n",
        "})\n",
        "print(comparison_p.head(5))\n",
        "\n"
      ],
      "metadata": {
        "colab": {
          "base_uri": "https://localhost:8080/"
        },
        "id": "JjklendcmDjT",
        "outputId": "b462d6a6-a946-4fea-d7f3-b7d591073c4a"
      },
      "execution_count": null,
      "outputs": [
        {
          "output_type": "stream",
          "name": "stdout",
          "text": [
            "Precipitation - Mean Absolute Error: 0.038120378520387715\n",
            "Precipitation - Root Mean Square Error: 0.05479543638407956\n",
            "        Date  Actual Precipitation   Predicted Precipitation\n",
            "0 2023-11-30                 4460.0                -0.055228\n",
            "1 2023-11-29                 4626.0                 0.214526\n",
            "2 2023-11-28                 6134.0                 0.029430\n",
            "3 2023-11-27                 3812.0                -0.054412\n",
            "4 2023-11-26                 5107.0                 0.491985\n"
          ]
        }
      ]
    },
    {
      "cell_type": "markdown",
      "source": [
        "**Solar Radiation**"
      ],
      "metadata": {
        "id": "HJjUsMXbnKn4"
      }
    },
    {
      "cell_type": "code",
      "source": [
        "# Impute missing values in the target variable (solar radiation)\n",
        "imputer_target = SimpleImputer(strategy='mean')\n",
        "\n",
        "# Reshape y_train_solar for imputation\n",
        "y_train_solar_reshaped = y_train_solar.reshape(-1, 1)\n",
        "y_train_solar_imputed = imputer_target.fit_transform(y_train_solar_reshaped).ravel()\n",
        "\n",
        "# Train the MLP model for solar radiation prediction\n",
        "mlp_model_solar = MLPRegressor(hidden_layer_sizes=(100, 50), activation='relu', solver='adam', max_iter=500, random_state=42)\n",
        "#mlp_model_solar.fit(X_train_imputed, y_train_solar)\n",
        "\n",
        "# Now, retrain your model using the imputed target variable\n",
        "mlp_model_solar.fit(X_train_imputed, y_train_solar_imputed)\n",
        "\n",
        "# Proceed with prediction and evaluation as before\n",
        "y_pred_solar = mlp_model_solar.predict(X_test_imputed)\n",
        "\n",
        "mae_solar = mean_absolute_error(y_test_solar, y_pred_solar)\n",
        "rmse_solar = np.sqrt(mean_squared_error(y_test_solar, y_pred_solar))\n",
        "\n",
        "print(f'Mean Absolute Error for Solar Radiation: {mae_solar}')\n",
        "print(f'Root Mean Square Error for Solar Radiation: {rmse_solar}')\n",
        "\n",
        "# Assuming 'test_dates' is a Series or list with the dates corresponding to y_test_solar\n",
        "comparison_solar = pd.DataFrame({\n",
        "    'Date': test_dates,\n",
        "    'Actual Solar Radiation': y_test_solar,\n",
        "    'Predicted Solar Radiation': y_pred_solar\n",
        "})\n",
        "print(comparison_solar.head(5))\n"
      ],
      "metadata": {
        "colab": {
          "base_uri": "https://localhost:8080/"
        },
        "id": "EXe8TtUumFv6",
        "outputId": "11216bae-7b34-43d5-bebb-033e6295d1ea"
      },
      "execution_count": null,
      "outputs": [
        {
          "output_type": "stream",
          "name": "stdout",
          "text": [
            "Mean Absolute Error for Solar Radiation: 80.95408881189307\n",
            "Root Mean Square Error for Solar Radiation: 160.35346221671827\n",
            "        Date  Actual Solar Radiation  Predicted Solar Radiation\n",
            "0 2023-11-30                  4460.0                4541.539236\n",
            "1 2023-11-29                  4626.0                4672.979376\n",
            "2 2023-11-28                  6134.0                6214.097146\n",
            "3 2023-11-27                  3812.0                3942.978314\n",
            "4 2023-11-26                  5107.0                5107.581067\n"
          ]
        },
        {
          "output_type": "stream",
          "name": "stderr",
          "text": [
            "/usr/local/lib/python3.10/dist-packages/sklearn/neural_network/_multilayer_perceptron.py:686: ConvergenceWarning: Stochastic Optimizer: Maximum iterations (500) reached and the optimization hasn't converged yet.\n",
            "  warnings.warn(\n"
          ]
        }
      ]
    },
    {
      "cell_type": "markdown",
      "source": [
        "\n",
        "\n",
        "```\n",
        "Mean Absolute Error for Solar Radiation: 80.95408881189307\n",
        "Root Mean Square Error for Solar Radiation: 160.35346221671827\n",
        "        Date               Actual Solar            Predicted Solar\n",
        "0 2023-11-30                  4460.0                4541.539236\n",
        "1 2023-11-29                  4626.0                4672.979376\n",
        "2 2023-11-28                  6134.0                6214.097146\n",
        "3 2023-11-27                  3812.0                3942.978314\n",
        "4 2023-11-26                  5107.0                5107.581067\n",
        "```\n",
        "\n"
      ],
      "metadata": {
        "id": "f97VrNvBR393"
      }
    },
    {
      "cell_type": "markdown",
      "source": [
        "MAE (80.9541): On average, the model's predictions for solar radiation deviate from the actual measurements by about 80.95 units. Given the context of solar radiation (likely measured in watts per square meter or a similar unit), this error magnitude suggests that the model provides a relatively close approximation of the actual solar radiation values.\n",
        "\n",
        "RMSE (160.3535): The higher value of RMSE compared to MAE indicates that there are some predictions with significant errors, as RMSE gives more weight to larger errors due to the squaring of the error terms. The difference between MAE and RMSE suggests the presence of outliers or predictions with substantial errors.\n",
        "\n",
        "The actual vs. predicted solar radiation values for the first five data points show that the model can closely predict solar radiation for certain days, with some predictions being very close to the actual values (e.g., on 2023-11-26, the prediction is almost exactly the actual value). However, the presence of larger errors that contribute to the high RMSE value indicates variability in the model's predictive accuracy across different days."
      ],
      "metadata": {
        "id": "uA4O299ZR6Hm"
      }
    },
    {
      "cell_type": "markdown",
      "source": [
        "**Pressure**"
      ],
      "metadata": {
        "id": "SpVTodAJnRLp"
      }
    },
    {
      "cell_type": "code",
      "source": [
        "# Train the MLP model for average pressure at sea level prediction\n",
        "mlp_model_pressure = MLPRegressor(hidden_layer_sizes=(100, 50), activation='relu', solver='adam', max_iter=500, random_state=42)\n",
        "mlp_model_pressure.fit(X_train_imputed, y_train_pressure)\n",
        "\n",
        "# Predict average pressure at sea level on the test data\n",
        "y_pred_pressure = mlp_model_pressure.predict(X_test_imputed)\n",
        "\n",
        "# Evaluate the model's performance\n",
        "mae_pressure = mean_absolute_error(y_test_pressure, y_pred_pressure)\n",
        "rmse_pressure = np.sqrt(mean_squared_error(y_test_pressure, y_pred_pressure))\n",
        "\n",
        "print(f'Mean Absolute Error for Avg Pressure Sea: {mae_pressure}')\n",
        "print(f'Root Mean Square Error for Avg Pressure Sea: {rmse_pressure}')\n",
        "\n",
        "# Compare actual vs. predicted average pressure at sea level for the first 5 data points\n",
        "comparison_pressure = pd.DataFrame({\n",
        "    'Date': test_dates,\n",
        "    'Actual Avg Pressure Sea': y_test_pressure,\n",
        "    'Predicted Avg Pressure Sea': y_pred_pressure\n",
        "})\n",
        "print(comparison_pressure.head(5))\n"
      ],
      "metadata": {
        "colab": {
          "base_uri": "https://localhost:8080/"
        },
        "id": "yLSWPV0vnVlt",
        "outputId": "16f388fa-9756-4437-c33b-5df2c1f71753"
      },
      "execution_count": null,
      "outputs": [
        {
          "output_type": "stream",
          "name": "stdout",
          "text": [
            "Mean Absolute Error for Avg Pressure Sea: 0.2848134405909842\n",
            "Root Mean Square Error for Avg Pressure Sea: 0.3982512011352726\n",
            "        Date  Actual Avg Pressure Sea  Predicted Avg Pressure Sea\n",
            "0 2023-11-30                   100.99                  101.188666\n",
            "1 2023-11-29                   101.21                  101.430452\n",
            "2 2023-11-28                   100.92                  101.396786\n",
            "3 2023-11-27                   100.20                  100.717188\n",
            "4 2023-11-26                   101.32                  101.284011\n"
          ]
        }
      ]
    },
    {
      "cell_type": "markdown",
      "source": [
        "\n",
        "\n",
        "```\n",
        "Mean Absolute Error for Avg Pressure Sea: 0.2848134405909842\n",
        "Root Mean Square Error for Avg Pressure Sea: 0.3982512011352726\n",
        "        Date                 Actual AvgPressure    Predicted AvgPressure\n",
        "0 2023-11-30                   100.99                  101.188666\n",
        "1 2023-11-29                   101.21                  101.430452\n",
        "2 2023-11-28                   100.92                  101.396786\n",
        "3 2023-11-27                   100.20                  100.717188\n",
        "4 2023-11-26                   101.32                  101.284011\n",
        "```\n",
        "\n"
      ],
      "metadata": {
        "id": "uyCiAiDKSWiT"
      }
    },
    {
      "cell_type": "code",
      "source": [
        "#giving the prediction based on a given date for 2023\n",
        "# Assuming 'test_dates' and 'y_pred_pressure' contain dates and predictions\n",
        "predictions_df = pd.DataFrame({'Date': test_dates, 'Predicted Pressure': y_pred_pressure})\n",
        "predictions_df.to_csv('predicted_pressures.csv', index=False)\n",
        "\n",
        "def get_saved_prediction(date_str):\n",
        "    predictions_df = pd.read_csv('predicted_pressures.csv')\n",
        "    prediction = predictions_df.loc[predictions_df['Date'] == date_str, 'Predicted Pressure'].iloc[0]\n",
        "    print(f\"Predicted Pressure for {date_str}: {prediction}\")\n",
        "\n",
        "    actual_pressure = weather_data[weather_data['date'] == date_str]['avg_pressure_sea'].iloc[0]\n",
        "\n",
        "    print(f\"Actual Pressure: {actual_pressure}\")\n",
        "\n",
        "\n",
        "# given this date get the prediction\n",
        "get_saved_prediction('2023-11-29')\n"
      ],
      "metadata": {
        "colab": {
          "base_uri": "https://localhost:8080/"
        },
        "id": "tZ2TwTMHZWox",
        "outputId": "f00344cd-b54b-4ae1-ae62-33a30ca0d68c"
      },
      "execution_count": null,
      "outputs": [
        {
          "output_type": "stream",
          "name": "stdout",
          "text": [
            "Predicted Pressure for 2023-11-29: 101.43045163397184\n",
            "Actual Pressure: 101.21\n"
          ]
        }
      ]
    },
    {
      "cell_type": "markdown",
      "source": [
        "MAE and RMSE for predicting the average pressure at sea level (avg_pressure_sea) are 0.2848 and 0.3983, respectively. These values indicate that, on average, the model's predictions for the average pressure at sea level deviate from the actual measurements by these amounts. While still relatively low, these errors are slightly higher than those for the average temperature predictions, suggesting that predicting atmospheric pressure might be a bit more challenging for the model given the dataset and features used."
      ],
      "metadata": {
        "id": "mJ0HOZQ_oyeH"
      }
    },
    {
      "cell_type": "markdown",
      "source": [
        "**Evaluation**"
      ],
      "metadata": {
        "id": "xEo-HPtiPfQU"
      }
    },
    {
      "cell_type": "markdown",
      "source": [
        "**Mean Absolute Error (MAE)** is a metric used to evaluate the accuracy of a regression model. It is calculated as the average of the absolute differences between the predicted values and the actual values in the dataset. MAE provides a straightforward interpretation of the average error magnitude per data point without considering the direction of the errors. A lower MAE value indicates better model performance, with 0 being the ideal score, meaning the model's predictions are exactly equal to the actual values. In the context of MLP (Multilayer Perceptron) models and other regression models, MAE is particularly useful for understanding the average prediction error in the same units as the target variable being predicted.\n",
        "\n",
        "\n",
        "**Root Mean Square Error (RMSE)** is another metric used to evaluate the performance of regression models. It is calculated as the square root of the average of the squared differences between the predicted values and the actual values. RMSE gives a sense of how spread out these errors are. In other words, it gives you an idea of the magnitude of error. Unlike MAE, RMSE gives a higher weight to larger errors, meaning it penalizes large errors more than smaller ones. This can be particularly useful when large errors are particularly undesirable. A lower RMSE value indicates better model performance, with 0 being the ideal score.\n",
        "\n",
        "\n",
        "---\n",
        "\n",
        "\n",
        "### Their Use in MLP Models\n",
        "\n",
        "Both MAE and RMSE are crucial for evaluating and comparing regression models, including MLPs, as they provide different perspectives on the model's error characteristics. MAE is less sensitive to outliers since it considers the absolute value of errors, making it a robust measure of model performance. In contrast, RMSE is more sensitive to outliers due to the squaring of errors, offering insights into the model's performance when large errors are particularly problematic.\n",
        "\n",
        "In practice, the choice between MAE and RMSE depends on the specific application and whether large errors are significantly more harmful than smaller ones. In many cases, both metrics are reported to provide a comprehensive view of the model's performance.\n",
        "\n",
        "###Value Ranges and Interpretation\n",
        "\n",
        "\n",
        "The range of both MAE and RMSE is from 0 to ∞, where 0 indicates perfect predictions with no error. Both metrics are in the same units as the target variable being predicted. This makes them intuitively easy to understand; for example, an MAE of 5 in a temperature prediction model would mean the model's predictions are off by an average of 5 degrees.\n",
        "Lower values indicate better model performance, with a value of 0 representing perfect predictions. Higher values indicate worse model performance, suggesting larger discrepancies between the predicted and actual values.\n",
        "Comparing MAE and RMSE can give insights into the error distribution: if RMSE is significantly higher than MAE, it suggests the presence of outliers or large errors in some predictions.\n",
        "Practical Consideration: The choice between MAE and RMSE depends on the specific context of the problem and whether large errors are particularly undesirable. RMSE will \"punish\" large errors more heavily than MAE, making it a more stringent measure of model performance in cases where such errors are especially problematic."
      ],
      "metadata": {
        "id": "aYkcLBz2PgBO"
      }
    }
  ],
  "metadata": {
    "colab": {
      "provenance": []
    },
    "kernelspec": {
      "display_name": "Python 3",
      "language": "python",
      "name": "python3"
    },
    "language_info": {
      "codemirror_mode": {
        "name": "ipython",
        "version": 3
      },
      "file_extension": ".py",
      "mimetype": "text/x-python",
      "name": "python",
      "nbconvert_exporter": "python",
      "pygments_lexer": "ipython3",
      "version": "3.8.10"
    }
  },
  "nbformat": 4,
  "nbformat_minor": 0
}